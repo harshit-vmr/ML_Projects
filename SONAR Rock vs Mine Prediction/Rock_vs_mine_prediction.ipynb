{
  "nbformat": 4,
  "nbformat_minor": 0,
  "metadata": {
    "colab": {
      "provenance": [],
      "authorship_tag": "ABX9TyPtw7AKPs5rhDzKXpNLa3cM",
      "include_colab_link": true
    },
    "kernelspec": {
      "name": "python3",
      "display_name": "Python 3"
    },
    "language_info": {
      "name": "python"
    }
  },
  "cells": [
    {
      "cell_type": "markdown",
      "metadata": {
        "id": "view-in-github",
        "colab_type": "text"
      },
      "source": [
        "<a href=\"https://colab.research.google.com/github/harshit-vmr/ML_Projects/blob/project_p1/SONAR%20Rock%20vs%20Mine%20Prediction/Rock_vs_mine_prediction.ipynb\" target=\"_parent\"><img src=\"https://colab.research.google.com/assets/colab-badge.svg\" alt=\"Open In Colab\"/></a>"
      ]
    },
    {
      "cell_type": "markdown",
      "source": [
        "#Start of Code"
      ],
      "metadata": {
        "id": "Q5X0h2hnIlRX"
      }
    },
    {
      "cell_type": "markdown",
      "source": [
        "###Import Dependencies"
      ],
      "metadata": {
        "id": "JXs8Vs6wIwhc"
      }
    },
    {
      "cell_type": "code",
      "source": [
        "import numpy as np\n",
        "import pandas as pd\n",
        "from sklearn.model_selection import train_test_split\n",
        "from sklearn.linear_model import LogisticRegression\n",
        "from sklearn import metrics\n",
        "import matplotlib.pyplot as plt"
      ],
      "metadata": {
        "id": "fxPUY8UtIrzC"
      },
      "execution_count": 1,
      "outputs": []
    },
    {
      "cell_type": "code",
      "execution_count": null,
      "metadata": {
        "id": "W1HyhADXBKch"
      },
      "outputs": [],
      "source": []
    }
  ]
}